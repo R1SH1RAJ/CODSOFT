{
 "cells": [
  {
   "cell_type": "code",
   "execution_count": 1,
   "id": "c5f7d57d",
   "metadata": {
    "_cell_guid": "b1076dfc-b9ad-4769-8c92-a6c4dae69d19",
    "_uuid": "8f2839f25d086af736a60e9eeb907d3b93b6e0e5",
    "execution": {
     "iopub.execute_input": "2024-04-02T05:40:02.744534Z",
     "iopub.status.busy": "2024-04-02T05:40:02.744082Z",
     "iopub.status.idle": "2024-04-02T05:40:03.847595Z",
     "shell.execute_reply": "2024-04-02T05:40:03.845001Z"
    },
    "papermill": {
     "duration": 1.123122,
     "end_time": "2024-04-02T05:40:03.851361",
     "exception": false,
     "start_time": "2024-04-02T05:40:02.728239",
     "status": "completed"
    },
    "tags": []
   },
   "outputs": [
    {
     "name": "stdout",
     "output_type": "stream",
     "text": [
      "/kaggle/input/titanic-dataset/Titanic-Dataset.csv\n"
     ]
    }
   ],
   "source": [
    "# This Python 3 environment comes with many helpful analytics libraries installed\n",
    "# It is defined by the kaggle/python Docker image: https://github.com/kaggle/docker-python\n",
    "# For example, here's several helpful packages to load\n",
    "\n",
    "import numpy as np # linear algebra\n",
    "import pandas as pd # data processing, CSV file I/O (e.g. pd.read_csv)\n",
    "\n",
    "# Input data files are available in the read-only \"../input/\" directory\n",
    "# For example, running this (by clicking run or pressing Shift+Enter) will list all files under the input directory\n",
    "\n",
    "import os\n",
    "for dirname, _, filenames in os.walk('/kaggle/input'):\n",
    "    for filename in filenames:\n",
    "        print(os.path.join(dirname, filename))\n",
    "\n",
    "# You can write up to 20GB to the current directory (/kaggle/working/) that gets preserved as output when you create a version using \"Save & Run All\" \n",
    "# You can also write temporary files to /kaggle/temp/, but they won't be saved outside of the current session"
   ]
  },
  {
   "cell_type": "code",
   "execution_count": 2,
   "id": "8530f3c8",
   "metadata": {
    "execution": {
     "iopub.execute_input": "2024-04-02T05:40:03.880199Z",
     "iopub.status.busy": "2024-04-02T05:40:03.879207Z",
     "iopub.status.idle": "2024-04-02T05:40:06.187885Z",
     "shell.execute_reply": "2024-04-02T05:40:06.186441Z"
    },
    "papermill": {
     "duration": 2.326039,
     "end_time": "2024-04-02T05:40:06.190865",
     "exception": false,
     "start_time": "2024-04-02T05:40:03.864826",
     "status": "completed"
    },
    "tags": []
   },
   "outputs": [
    {
     "name": "stdout",
     "output_type": "stream",
     "text": [
      "/kaggle/input/titanic-dataset/Titanic-Dataset.csv\n"
     ]
    }
   ],
   "source": [
    "import numpy as np \n",
    "import pandas as pd \n",
    "from sklearn.model_selection import train_test_split\n",
    "from sklearn.ensemble import RandomForestClassifier\n",
    "from sklearn.tree import DecisionTreeClassifier\n",
    "from sklearn.metrics import accuracy_score, classification_report, confusion_matrix\n",
    "import matplotlib.pyplot as plt\n",
    "import seaborn as sns\n",
    "\n",
    "import os\n",
    "for dirname, _, filenames in os.walk('/kaggle/input'):\n",
    "    for filename in filenames:\n",
    "        print(os.path.join(dirname, filename))"
   ]
  },
  {
   "cell_type": "code",
   "execution_count": 3,
   "id": "5ab37de2",
   "metadata": {
    "execution": {
     "iopub.execute_input": "2024-04-02T05:40:06.219482Z",
     "iopub.status.busy": "2024-04-02T05:40:06.218985Z",
     "iopub.status.idle": "2024-04-02T05:40:06.267427Z",
     "shell.execute_reply": "2024-04-02T05:40:06.266386Z"
    },
    "papermill": {
     "duration": 0.065651,
     "end_time": "2024-04-02T05:40:06.270067",
     "exception": false,
     "start_time": "2024-04-02T05:40:06.204416",
     "status": "completed"
    },
    "tags": []
   },
   "outputs": [
    {
     "data": {
      "text/html": [
       "<div>\n",
       "<style scoped>\n",
       "    .dataframe tbody tr th:only-of-type {\n",
       "        vertical-align: middle;\n",
       "    }\n",
       "\n",
       "    .dataframe tbody tr th {\n",
       "        vertical-align: top;\n",
       "    }\n",
       "\n",
       "    .dataframe thead th {\n",
       "        text-align: right;\n",
       "    }\n",
       "</style>\n",
       "<table border=\"1\" class=\"dataframe\">\n",
       "  <thead>\n",
       "    <tr style=\"text-align: right;\">\n",
       "      <th></th>\n",
       "      <th>PassengerId</th>\n",
       "      <th>Survived</th>\n",
       "      <th>Pclass</th>\n",
       "      <th>Name</th>\n",
       "      <th>Sex</th>\n",
       "      <th>Age</th>\n",
       "      <th>SibSp</th>\n",
       "      <th>Parch</th>\n",
       "      <th>Ticket</th>\n",
       "      <th>Fare</th>\n",
       "      <th>Cabin</th>\n",
       "      <th>Embarked</th>\n",
       "    </tr>\n",
       "  </thead>\n",
       "  <tbody>\n",
       "    <tr>\n",
       "      <th>0</th>\n",
       "      <td>1</td>\n",
       "      <td>0</td>\n",
       "      <td>3</td>\n",
       "      <td>Braund, Mr. Owen Harris</td>\n",
       "      <td>male</td>\n",
       "      <td>22.0</td>\n",
       "      <td>1</td>\n",
       "      <td>0</td>\n",
       "      <td>A/5 21171</td>\n",
       "      <td>7.2500</td>\n",
       "      <td>NaN</td>\n",
       "      <td>S</td>\n",
       "    </tr>\n",
       "    <tr>\n",
       "      <th>1</th>\n",
       "      <td>2</td>\n",
       "      <td>1</td>\n",
       "      <td>1</td>\n",
       "      <td>Cumings, Mrs. John Bradley (Florence Briggs Th...</td>\n",
       "      <td>female</td>\n",
       "      <td>38.0</td>\n",
       "      <td>1</td>\n",
       "      <td>0</td>\n",
       "      <td>PC 17599</td>\n",
       "      <td>71.2833</td>\n",
       "      <td>C85</td>\n",
       "      <td>C</td>\n",
       "    </tr>\n",
       "    <tr>\n",
       "      <th>2</th>\n",
       "      <td>3</td>\n",
       "      <td>1</td>\n",
       "      <td>3</td>\n",
       "      <td>Heikkinen, Miss. Laina</td>\n",
       "      <td>female</td>\n",
       "      <td>26.0</td>\n",
       "      <td>0</td>\n",
       "      <td>0</td>\n",
       "      <td>STON/O2. 3101282</td>\n",
       "      <td>7.9250</td>\n",
       "      <td>NaN</td>\n",
       "      <td>S</td>\n",
       "    </tr>\n",
       "  </tbody>\n",
       "</table>\n",
       "</div>"
      ],
      "text/plain": [
       "   PassengerId  Survived  Pclass  \\\n",
       "0            1         0       3   \n",
       "1            2         1       1   \n",
       "2            3         1       3   \n",
       "\n",
       "                                                Name     Sex   Age  SibSp  \\\n",
       "0                            Braund, Mr. Owen Harris    male  22.0      1   \n",
       "1  Cumings, Mrs. John Bradley (Florence Briggs Th...  female  38.0      1   \n",
       "2                             Heikkinen, Miss. Laina  female  26.0      0   \n",
       "\n",
       "   Parch            Ticket     Fare Cabin Embarked  \n",
       "0      0         A/5 21171   7.2500   NaN        S  \n",
       "1      0          PC 17599  71.2833   C85        C  \n",
       "2      0  STON/O2. 3101282   7.9250   NaN        S  "
      ]
     },
     "execution_count": 3,
     "metadata": {},
     "output_type": "execute_result"
    }
   ],
   "source": [
    "df=pd.read_csv(\"/kaggle/input/titanic-dataset/Titanic-Dataset.csv\")\n",
    "df.head(3)"
   ]
  },
  {
   "cell_type": "code",
   "execution_count": 4,
   "id": "9c384529",
   "metadata": {
    "execution": {
     "iopub.execute_input": "2024-04-02T05:40:06.298911Z",
     "iopub.status.busy": "2024-04-02T05:40:06.298193Z",
     "iopub.status.idle": "2024-04-02T05:40:06.327154Z",
     "shell.execute_reply": "2024-04-02T05:40:06.325670Z"
    },
    "papermill": {
     "duration": 0.046924,
     "end_time": "2024-04-02T05:40:06.330250",
     "exception": false,
     "start_time": "2024-04-02T05:40:06.283326",
     "status": "completed"
    },
    "tags": []
   },
   "outputs": [
    {
     "name": "stdout",
     "output_type": "stream",
     "text": [
      "<class 'pandas.core.frame.DataFrame'>\n",
      "RangeIndex: 891 entries, 0 to 890\n",
      "Data columns (total 12 columns):\n",
      " #   Column       Non-Null Count  Dtype  \n",
      "---  ------       --------------  -----  \n",
      " 0   PassengerId  891 non-null    int64  \n",
      " 1   Survived     891 non-null    int64  \n",
      " 2   Pclass       891 non-null    int64  \n",
      " 3   Name         891 non-null    object \n",
      " 4   Sex          891 non-null    object \n",
      " 5   Age          714 non-null    float64\n",
      " 6   SibSp        891 non-null    int64  \n",
      " 7   Parch        891 non-null    int64  \n",
      " 8   Ticket       891 non-null    object \n",
      " 9   Fare         891 non-null    float64\n",
      " 10  Cabin        204 non-null    object \n",
      " 11  Embarked     889 non-null    object \n",
      "dtypes: float64(2), int64(5), object(5)\n",
      "memory usage: 83.7+ KB\n"
     ]
    }
   ],
   "source": [
    "df.info()"
   ]
  },
  {
   "cell_type": "code",
   "execution_count": 5,
   "id": "bcb85432",
   "metadata": {
    "execution": {
     "iopub.execute_input": "2024-04-02T05:40:06.360460Z",
     "iopub.status.busy": "2024-04-02T05:40:06.359974Z",
     "iopub.status.idle": "2024-04-02T05:40:06.368780Z",
     "shell.execute_reply": "2024-04-02T05:40:06.367570Z"
    },
    "papermill": {
     "duration": 0.026896,
     "end_time": "2024-04-02T05:40:06.371384",
     "exception": false,
     "start_time": "2024-04-02T05:40:06.344488",
     "status": "completed"
    },
    "tags": []
   },
   "outputs": [
    {
     "data": {
      "text/plain": [
       "Index(['PassengerId', 'Survived', 'Pclass', 'Name', 'Sex', 'Age', 'SibSp',\n",
       "       'Parch', 'Ticket', 'Fare', 'Cabin', 'Embarked'],\n",
       "      dtype='object')"
      ]
     },
     "execution_count": 5,
     "metadata": {},
     "output_type": "execute_result"
    }
   ],
   "source": [
    "df.columns"
   ]
  },
  {
   "cell_type": "code",
   "execution_count": 6,
   "id": "d3d0642e",
   "metadata": {
    "execution": {
     "iopub.execute_input": "2024-04-02T05:40:06.402090Z",
     "iopub.status.busy": "2024-04-02T05:40:06.401611Z",
     "iopub.status.idle": "2024-04-02T05:40:06.410826Z",
     "shell.execute_reply": "2024-04-02T05:40:06.409483Z"
    },
    "papermill": {
     "duration": 0.027651,
     "end_time": "2024-04-02T05:40:06.413551",
     "exception": false,
     "start_time": "2024-04-02T05:40:06.385900",
     "status": "completed"
    },
    "tags": []
   },
   "outputs": [],
   "source": [
    "df = df.rename(columns={'PassengerId': 'YolcuId', \n",
    "                        'Survived': 'Kurtulan',\n",
    "                        'Pclass': 'BiletSınıfı',\n",
    "                        'Name': 'İsim',\n",
    "                        'Sex': 'Cinsiyet',\n",
    "                        'Age': 'Yaş',\n",
    "                        'SibSp': 'KardeşEşSayısı',\n",
    "                        'Parch': 'EbeveynÇocukSayısı',\n",
    "                        'Ticket': 'BiletNumarası',\n",
    "                        'Fare': 'Ücret',\n",
    "                        'Cabin': 'Kabin',\n",
    "                        'Embarked': 'GemiyeBinen'})"
   ]
  },
  {
   "cell_type": "code",
   "execution_count": 7,
   "id": "cfc06f09",
   "metadata": {
    "execution": {
     "iopub.execute_input": "2024-04-02T05:40:06.442644Z",
     "iopub.status.busy": "2024-04-02T05:40:06.442119Z",
     "iopub.status.idle": "2024-04-02T05:40:06.461883Z",
     "shell.execute_reply": "2024-04-02T05:40:06.460555Z"
    },
    "papermill": {
     "duration": 0.0377,
     "end_time": "2024-04-02T05:40:06.464742",
     "exception": false,
     "start_time": "2024-04-02T05:40:06.427042",
     "status": "completed"
    },
    "tags": []
   },
   "outputs": [
    {
     "data": {
      "text/html": [
       "<div>\n",
       "<style scoped>\n",
       "    .dataframe tbody tr th:only-of-type {\n",
       "        vertical-align: middle;\n",
       "    }\n",
       "\n",
       "    .dataframe tbody tr th {\n",
       "        vertical-align: top;\n",
       "    }\n",
       "\n",
       "    .dataframe thead th {\n",
       "        text-align: right;\n",
       "    }\n",
       "</style>\n",
       "<table border=\"1\" class=\"dataframe\">\n",
       "  <thead>\n",
       "    <tr style=\"text-align: right;\">\n",
       "      <th></th>\n",
       "      <th>YolcuId</th>\n",
       "      <th>Kurtulan</th>\n",
       "      <th>BiletSınıfı</th>\n",
       "      <th>İsim</th>\n",
       "      <th>Cinsiyet</th>\n",
       "      <th>Yaş</th>\n",
       "      <th>KardeşEşSayısı</th>\n",
       "      <th>EbeveynÇocukSayısı</th>\n",
       "      <th>BiletNumarası</th>\n",
       "      <th>Ücret</th>\n",
       "      <th>Kabin</th>\n",
       "      <th>GemiyeBinen</th>\n",
       "    </tr>\n",
       "  </thead>\n",
       "  <tbody>\n",
       "    <tr>\n",
       "      <th>0</th>\n",
       "      <td>1</td>\n",
       "      <td>0</td>\n",
       "      <td>3</td>\n",
       "      <td>Braund, Mr. Owen Harris</td>\n",
       "      <td>male</td>\n",
       "      <td>22.0</td>\n",
       "      <td>1</td>\n",
       "      <td>0</td>\n",
       "      <td>A/5 21171</td>\n",
       "      <td>7.2500</td>\n",
       "      <td>NaN</td>\n",
       "      <td>S</td>\n",
       "    </tr>\n",
       "    <tr>\n",
       "      <th>1</th>\n",
       "      <td>2</td>\n",
       "      <td>1</td>\n",
       "      <td>1</td>\n",
       "      <td>Cumings, Mrs. John Bradley (Florence Briggs Th...</td>\n",
       "      <td>female</td>\n",
       "      <td>38.0</td>\n",
       "      <td>1</td>\n",
       "      <td>0</td>\n",
       "      <td>PC 17599</td>\n",
       "      <td>71.2833</td>\n",
       "      <td>C85</td>\n",
       "      <td>C</td>\n",
       "    </tr>\n",
       "    <tr>\n",
       "      <th>2</th>\n",
       "      <td>3</td>\n",
       "      <td>1</td>\n",
       "      <td>3</td>\n",
       "      <td>Heikkinen, Miss. Laina</td>\n",
       "      <td>female</td>\n",
       "      <td>26.0</td>\n",
       "      <td>0</td>\n",
       "      <td>0</td>\n",
       "      <td>STON/O2. 3101282</td>\n",
       "      <td>7.9250</td>\n",
       "      <td>NaN</td>\n",
       "      <td>S</td>\n",
       "    </tr>\n",
       "  </tbody>\n",
       "</table>\n",
       "</div>"
      ],
      "text/plain": [
       "   YolcuId  Kurtulan  BiletSınıfı  \\\n",
       "0        1         0            3   \n",
       "1        2         1            1   \n",
       "2        3         1            3   \n",
       "\n",
       "                                                İsim Cinsiyet   Yaş  \\\n",
       "0                            Braund, Mr. Owen Harris     male  22.0   \n",
       "1  Cumings, Mrs. John Bradley (Florence Briggs Th...   female  38.0   \n",
       "2                             Heikkinen, Miss. Laina   female  26.0   \n",
       "\n",
       "   KardeşEşSayısı  EbeveynÇocukSayısı     BiletNumarası    Ücret Kabin  \\\n",
       "0               1                   0         A/5 21171   7.2500   NaN   \n",
       "1               1                   0          PC 17599  71.2833   C85   \n",
       "2               0                   0  STON/O2. 3101282   7.9250   NaN   \n",
       "\n",
       "  GemiyeBinen  \n",
       "0           S  \n",
       "1           C  \n",
       "2           S  "
      ]
     },
     "execution_count": 7,
     "metadata": {},
     "output_type": "execute_result"
    }
   ],
   "source": [
    "df.head(3)"
   ]
  },
  {
   "cell_type": "code",
   "execution_count": 8,
   "id": "fd23ce9c",
   "metadata": {
    "execution": {
     "iopub.execute_input": "2024-04-02T05:40:06.494388Z",
     "iopub.status.busy": "2024-04-02T05:40:06.493950Z",
     "iopub.status.idle": "2024-04-02T05:40:06.529157Z",
     "shell.execute_reply": "2024-04-02T05:40:06.527821Z"
    },
    "papermill": {
     "duration": 0.053566,
     "end_time": "2024-04-02T05:40:06.532095",
     "exception": false,
     "start_time": "2024-04-02T05:40:06.478529",
     "status": "completed"
    },
    "tags": []
   },
   "outputs": [
    {
     "data": {
      "text/html": [
       "<div>\n",
       "<style scoped>\n",
       "    .dataframe tbody tr th:only-of-type {\n",
       "        vertical-align: middle;\n",
       "    }\n",
       "\n",
       "    .dataframe tbody tr th {\n",
       "        vertical-align: top;\n",
       "    }\n",
       "\n",
       "    .dataframe thead th {\n",
       "        text-align: right;\n",
       "    }\n",
       "</style>\n",
       "<table border=\"1\" class=\"dataframe\">\n",
       "  <thead>\n",
       "    <tr style=\"text-align: right;\">\n",
       "      <th></th>\n",
       "      <th>YolcuId</th>\n",
       "      <th>Kurtulan</th>\n",
       "      <th>BiletSınıfı</th>\n",
       "      <th>Yaş</th>\n",
       "      <th>KardeşEşSayısı</th>\n",
       "      <th>EbeveynÇocukSayısı</th>\n",
       "      <th>Ücret</th>\n",
       "    </tr>\n",
       "  </thead>\n",
       "  <tbody>\n",
       "    <tr>\n",
       "      <th>count</th>\n",
       "      <td>891.000000</td>\n",
       "      <td>891.000000</td>\n",
       "      <td>891.000000</td>\n",
       "      <td>714.000000</td>\n",
       "      <td>891.000000</td>\n",
       "      <td>891.000000</td>\n",
       "      <td>891.000000</td>\n",
       "    </tr>\n",
       "    <tr>\n",
       "      <th>mean</th>\n",
       "      <td>446.000000</td>\n",
       "      <td>0.383838</td>\n",
       "      <td>2.308642</td>\n",
       "      <td>29.699118</td>\n",
       "      <td>0.523008</td>\n",
       "      <td>0.381594</td>\n",
       "      <td>32.204208</td>\n",
       "    </tr>\n",
       "    <tr>\n",
       "      <th>std</th>\n",
       "      <td>257.353842</td>\n",
       "      <td>0.486592</td>\n",
       "      <td>0.836071</td>\n",
       "      <td>14.526497</td>\n",
       "      <td>1.102743</td>\n",
       "      <td>0.806057</td>\n",
       "      <td>49.693429</td>\n",
       "    </tr>\n",
       "    <tr>\n",
       "      <th>min</th>\n",
       "      <td>1.000000</td>\n",
       "      <td>0.000000</td>\n",
       "      <td>1.000000</td>\n",
       "      <td>0.420000</td>\n",
       "      <td>0.000000</td>\n",
       "      <td>0.000000</td>\n",
       "      <td>0.000000</td>\n",
       "    </tr>\n",
       "    <tr>\n",
       "      <th>25%</th>\n",
       "      <td>223.500000</td>\n",
       "      <td>0.000000</td>\n",
       "      <td>2.000000</td>\n",
       "      <td>20.125000</td>\n",
       "      <td>0.000000</td>\n",
       "      <td>0.000000</td>\n",
       "      <td>7.910400</td>\n",
       "    </tr>\n",
       "    <tr>\n",
       "      <th>50%</th>\n",
       "      <td>446.000000</td>\n",
       "      <td>0.000000</td>\n",
       "      <td>3.000000</td>\n",
       "      <td>28.000000</td>\n",
       "      <td>0.000000</td>\n",
       "      <td>0.000000</td>\n",
       "      <td>14.454200</td>\n",
       "    </tr>\n",
       "    <tr>\n",
       "      <th>75%</th>\n",
       "      <td>668.500000</td>\n",
       "      <td>1.000000</td>\n",
       "      <td>3.000000</td>\n",
       "      <td>38.000000</td>\n",
       "      <td>1.000000</td>\n",
       "      <td>0.000000</td>\n",
       "      <td>31.000000</td>\n",
       "    </tr>\n",
       "    <tr>\n",
       "      <th>max</th>\n",
       "      <td>891.000000</td>\n",
       "      <td>1.000000</td>\n",
       "      <td>3.000000</td>\n",
       "      <td>80.000000</td>\n",
       "      <td>8.000000</td>\n",
       "      <td>6.000000</td>\n",
       "      <td>512.329200</td>\n",
       "    </tr>\n",
       "  </tbody>\n",
       "</table>\n",
       "</div>"
      ],
      "text/plain": [
       "          YolcuId    Kurtulan  BiletSınıfı         Yaş  KardeşEşSayısı  \\\n",
       "count  891.000000  891.000000   891.000000  714.000000      891.000000   \n",
       "mean   446.000000    0.383838     2.308642   29.699118        0.523008   \n",
       "std    257.353842    0.486592     0.836071   14.526497        1.102743   \n",
       "min      1.000000    0.000000     1.000000    0.420000        0.000000   \n",
       "25%    223.500000    0.000000     2.000000   20.125000        0.000000   \n",
       "50%    446.000000    0.000000     3.000000   28.000000        0.000000   \n",
       "75%    668.500000    1.000000     3.000000   38.000000        1.000000   \n",
       "max    891.000000    1.000000     3.000000   80.000000        8.000000   \n",
       "\n",
       "       EbeveynÇocukSayısı       Ücret  \n",
       "count          891.000000  891.000000  \n",
       "mean             0.381594   32.204208  \n",
       "std              0.806057   49.693429  \n",
       "min              0.000000    0.000000  \n",
       "25%              0.000000    7.910400  \n",
       "50%              0.000000   14.454200  \n",
       "75%              0.000000   31.000000  \n",
       "max              6.000000  512.329200  "
      ]
     },
     "execution_count": 8,
     "metadata": {},
     "output_type": "execute_result"
    }
   ],
   "source": [
    "df.describe()"
   ]
  },
  {
   "cell_type": "code",
   "execution_count": 9,
   "id": "0b588bc3",
   "metadata": {
    "execution": {
     "iopub.execute_input": "2024-04-02T05:40:06.562574Z",
     "iopub.status.busy": "2024-04-02T05:40:06.562051Z",
     "iopub.status.idle": "2024-04-02T05:40:06.581496Z",
     "shell.execute_reply": "2024-04-02T05:40:06.580592Z"
    },
    "papermill": {
     "duration": 0.037064,
     "end_time": "2024-04-02T05:40:06.583712",
     "exception": false,
     "start_time": "2024-04-02T05:40:06.546648",
     "status": "completed"
    },
    "tags": []
   },
   "outputs": [
    {
     "data": {
      "text/html": [
       "<div>\n",
       "<style scoped>\n",
       "    .dataframe tbody tr th:only-of-type {\n",
       "        vertical-align: middle;\n",
       "    }\n",
       "\n",
       "    .dataframe tbody tr th {\n",
       "        vertical-align: top;\n",
       "    }\n",
       "\n",
       "    .dataframe thead th {\n",
       "        text-align: right;\n",
       "    }\n",
       "</style>\n",
       "<table border=\"1\" class=\"dataframe\">\n",
       "  <thead>\n",
       "    <tr style=\"text-align: right;\">\n",
       "      <th></th>\n",
       "      <th>YolcuId</th>\n",
       "      <th>Kurtulan</th>\n",
       "      <th>BiletSınıfı</th>\n",
       "      <th>Yaş</th>\n",
       "      <th>KardeşEşSayısı</th>\n",
       "      <th>EbeveynÇocukSayısı</th>\n",
       "      <th>Ücret</th>\n",
       "    </tr>\n",
       "  </thead>\n",
       "  <tbody>\n",
       "    <tr>\n",
       "      <th>YolcuId</th>\n",
       "      <td>1.000000</td>\n",
       "      <td>-0.005007</td>\n",
       "      <td>-0.035144</td>\n",
       "      <td>0.036847</td>\n",
       "      <td>-0.057527</td>\n",
       "      <td>-0.001652</td>\n",
       "      <td>0.012658</td>\n",
       "    </tr>\n",
       "    <tr>\n",
       "      <th>Kurtulan</th>\n",
       "      <td>-0.005007</td>\n",
       "      <td>1.000000</td>\n",
       "      <td>-0.338481</td>\n",
       "      <td>-0.077221</td>\n",
       "      <td>-0.035322</td>\n",
       "      <td>0.081629</td>\n",
       "      <td>0.257307</td>\n",
       "    </tr>\n",
       "    <tr>\n",
       "      <th>BiletSınıfı</th>\n",
       "      <td>-0.035144</td>\n",
       "      <td>-0.338481</td>\n",
       "      <td>1.000000</td>\n",
       "      <td>-0.369226</td>\n",
       "      <td>0.083081</td>\n",
       "      <td>0.018443</td>\n",
       "      <td>-0.549500</td>\n",
       "    </tr>\n",
       "    <tr>\n",
       "      <th>Yaş</th>\n",
       "      <td>0.036847</td>\n",
       "      <td>-0.077221</td>\n",
       "      <td>-0.369226</td>\n",
       "      <td>1.000000</td>\n",
       "      <td>-0.308247</td>\n",
       "      <td>-0.189119</td>\n",
       "      <td>0.096067</td>\n",
       "    </tr>\n",
       "    <tr>\n",
       "      <th>KardeşEşSayısı</th>\n",
       "      <td>-0.057527</td>\n",
       "      <td>-0.035322</td>\n",
       "      <td>0.083081</td>\n",
       "      <td>-0.308247</td>\n",
       "      <td>1.000000</td>\n",
       "      <td>0.414838</td>\n",
       "      <td>0.159651</td>\n",
       "    </tr>\n",
       "    <tr>\n",
       "      <th>EbeveynÇocukSayısı</th>\n",
       "      <td>-0.001652</td>\n",
       "      <td>0.081629</td>\n",
       "      <td>0.018443</td>\n",
       "      <td>-0.189119</td>\n",
       "      <td>0.414838</td>\n",
       "      <td>1.000000</td>\n",
       "      <td>0.216225</td>\n",
       "    </tr>\n",
       "    <tr>\n",
       "      <th>Ücret</th>\n",
       "      <td>0.012658</td>\n",
       "      <td>0.257307</td>\n",
       "      <td>-0.549500</td>\n",
       "      <td>0.096067</td>\n",
       "      <td>0.159651</td>\n",
       "      <td>0.216225</td>\n",
       "      <td>1.000000</td>\n",
       "    </tr>\n",
       "  </tbody>\n",
       "</table>\n",
       "</div>"
      ],
      "text/plain": [
       "                     YolcuId  Kurtulan  BiletSınıfı       Yaş  KardeşEşSayısı  \\\n",
       "YolcuId             1.000000 -0.005007    -0.035144  0.036847       -0.057527   \n",
       "Kurtulan           -0.005007  1.000000    -0.338481 -0.077221       -0.035322   \n",
       "BiletSınıfı        -0.035144 -0.338481     1.000000 -0.369226        0.083081   \n",
       "Yaş                 0.036847 -0.077221    -0.369226  1.000000       -0.308247   \n",
       "KardeşEşSayısı     -0.057527 -0.035322     0.083081 -0.308247        1.000000   \n",
       "EbeveynÇocukSayısı -0.001652  0.081629     0.018443 -0.189119        0.414838   \n",
       "Ücret               0.012658  0.257307    -0.549500  0.096067        0.159651   \n",
       "\n",
       "                    EbeveynÇocukSayısı     Ücret  \n",
       "YolcuId                      -0.001652  0.012658  \n",
       "Kurtulan                      0.081629  0.257307  \n",
       "BiletSınıfı                   0.018443 -0.549500  \n",
       "Yaş                          -0.189119  0.096067  \n",
       "KardeşEşSayısı                0.414838  0.159651  \n",
       "EbeveynÇocukSayısı            1.000000  0.216225  \n",
       "Ücret                         0.216225  1.000000  "
      ]
     },
     "execution_count": 9,
     "metadata": {},
     "output_type": "execute_result"
    }
   ],
   "source": [
    "df.corr(numeric_only=True)"
   ]
  },
  {
   "cell_type": "code",
   "execution_count": 10,
   "id": "af0ca0e9",
   "metadata": {
    "execution": {
     "iopub.execute_input": "2024-04-02T05:40:06.614580Z",
     "iopub.status.busy": "2024-04-02T05:40:06.614063Z",
     "iopub.status.idle": "2024-04-02T05:40:06.950696Z",
     "shell.execute_reply": "2024-04-02T05:40:06.949600Z"
    },
    "papermill": {
     "duration": 0.354833,
     "end_time": "2024-04-02T05:40:06.952958",
     "exception": false,
     "start_time": "2024-04-02T05:40:06.598125",
     "status": "completed"
    },
    "tags": []
   },
   "outputs": [
    {
     "data": {
      "image/png": "[encoded data removed]",
      "text/plain": [
       "<Figure size 800x600 with 1 Axes>"
      ]
     },
     "metadata": {},
     "output_type": "display_data"
    }
   ],
   "source": [
    "plt.figure(figsize=(8, 6))\n",
    "df['BiletSınıfı'].value_counts().sort_index().plot(kind='bar', color='blue')\n",
    "plt.title('BiletSınıfı Dağılımı')\n",
    "plt.xlabel('BiletSınıfı')\n",
    "plt.ylabel('Yolcu Sayısı')\n",
    "plt.xticks(rotation=0)\n",
    "plt.show()"
   ]
  },
  {
   "cell_type": "code",
   "execution_count": 11,
   "id": "d2ad7cdb",
   "metadata": {
    "execution": {
     "iopub.execute_input": "2024-04-02T05:40:06.984831Z",
     "iopub.status.busy": "2024-04-02T05:40:06.984269Z",
     "iopub.status.idle": "2024-04-02T05:40:07.337142Z",
     "shell.execute_reply": "2024-04-02T05:40:07.335808Z"
    },
    "papermill": {
     "duration": 0.372216,
     "end_time": "2024-04-02T05:40:07.340062",
     "exception": false,
     "start_time": "2024-04-02T05:40:06.967846",
     "status": "completed"
    },
    "tags": []
   },
   "outputs": [
    {
     "data": {
      "image/png": "[encoded data removed]",
      "text/plain": [
       "<Figure size 800x600 with 1 Axes>"
      ]
     },
     "metadata": {},
     "output_type": "display_data"
    }
   ],
   "source": [
    "plt.figure(figsize=(8, 6))\n",
    "df['Yaş'].plot(kind='hist', bins=20, color='green', alpha=0.7)\n",
    "plt.title('Yaş Dağılımı')\n",
    "plt.xlabel('Yaş')\n",
    "plt.ylabel('Yolcu Sayısı')\n",
    "plt.show()\n"
   ]
  },
  {
   "cell_type": "code",
   "execution_count": 12,
   "id": "9f0e110b",
   "metadata": {
    "execution": {
     "iopub.execute_input": "2024-04-02T05:40:07.373263Z",
     "iopub.status.busy": "2024-04-02T05:40:07.372734Z",
     "iopub.status.idle": "2024-04-02T05:40:07.658102Z",
     "shell.execute_reply": "2024-04-02T05:40:07.656728Z"
    },
    "papermill": {
     "duration": 0.305565,
     "end_time": "2024-04-02T05:40:07.661128",
     "exception": false,
     "start_time": "2024-04-02T05:40:07.355563",
     "status": "completed"
    },
    "tags": []
   },
   "outputs": [
    {
     "data": {
      "image/png": "[encoded data removed]",
      "text/plain": [
       "<Figure size 800x600 with 1 Axes>"
      ]
     },
     "metadata": {},
     "output_type": "display_data"
    }
   ],
   "source": [
    "plt.figure(figsize=(8, 6))\n",
    "df['GemiyeBinen'].value_counts().plot(kind='bar', color='orange')\n",
    "plt.title('GemiyeBinen Kişi Dağılımı')\n",
    "plt.xlabel('GemiyeBinen')\n",
    "plt.ylabel('Yolcu Sayısı')\n",
    "plt.xticks(rotation=0)\n",
    "plt.show()"
   ]
  },
  {
   "cell_type": "code",
   "execution_count": 13,
   "id": "13b3e102",
   "metadata": {
    "execution": {
     "iopub.execute_input": "2024-04-02T05:40:07.698247Z",
     "iopub.status.busy": "2024-04-02T05:40:07.697363Z",
     "iopub.status.idle": "2024-04-02T05:40:07.981377Z",
     "shell.execute_reply": "2024-04-02T05:40:07.980077Z"
    },
    "papermill": {
     "duration": 0.306747,
     "end_time": "2024-04-02T05:40:07.984660",
     "exception": false,
     "start_time": "2024-04-02T05:40:07.677913",
     "status": "completed"
    },
    "tags": []
   },
   "outputs": [
    {
     "data": {
      "image/png": "[encoded data removed]",
      "text/plain": [
       "<Figure size 800x600 with 1 Axes>"
      ]
     },
     "metadata": {},
     "output_type": "display_data"
    }
   ],
   "source": [
    "plt.figure(figsize=(8, 6))\n",
    "df['Kurtulan'].value_counts().plot(kind='bar', color=['blue', 'red'])\n",
    "plt.title('Kurtulan Kişi Dağılımı')\n",
    "plt.xlabel('Kurtulan')\n",
    "plt.ylabel('Yolcu Sayısı')\n",
    "plt.xticks(ticks=[0, 1], labels=['Kurtulamadı', 'Kurtuldu'])\n",
    "plt.show()"
   ]
  },
  {
   "cell_type": "code",
   "execution_count": 14,
   "id": "0857b235",
   "metadata": {
    "execution": {
     "iopub.execute_input": "2024-04-02T05:40:08.022298Z",
     "iopub.status.busy": "2024-04-02T05:40:08.021806Z",
     "iopub.status.idle": "2024-04-02T05:40:08.354906Z",
     "shell.execute_reply": "2024-04-02T05:40:08.353506Z"
    },
    "papermill": {
     "duration": 0.355549,
     "end_time": "2024-04-02T05:40:08.358187",
     "exception": false,
     "start_time": "2024-04-02T05:40:08.002638",
     "status": "completed"
    },
    "tags": []
   },
   "outputs": [
    {
     "data": {
      "image/png": "[encoded data removed]",
      "text/plain": [
       "<Figure size 800x600 with 1 Axes>"
      ]
     },
     "metadata": {},
     "output_type": "display_data"
    }
   ],
   "source": [
    "plt.figure(figsize=(8, 6))\n",
    "plt.scatter(df['Yaş'], df['Kurtulan'], color='purple', alpha=0.5)\n",
    "plt.title('Yaş ve Kurtulan Kişi Dağılımı')\n",
    "plt.xlabel('Yaş')\n",
    "plt.ylabel('Kurtulan')\n",
    "plt.show()"
   ]
  },
  {
   "cell_type": "code",
   "execution_count": 15,
   "id": "94943fff",
   "metadata": {
    "execution": {
     "iopub.execute_input": "2024-04-02T05:40:08.394536Z",
     "iopub.status.busy": "2024-04-02T05:40:08.393662Z",
     "iopub.status.idle": "2024-04-02T05:40:08.742414Z",
     "shell.execute_reply": "2024-04-02T05:40:08.741012Z"
    },
    "papermill": {
     "duration": 0.370709,
     "end_time": "2024-04-02T05:40:08.745501",
     "exception": false,
     "start_time": "2024-04-02T05:40:08.374792",
     "status": "completed"
    },
    "tags": []
   },
   "outputs": [
    {
     "data": {
      "image/png": "[encoded data removed]",
      "text/plain": [
       "<Figure size 800x600 with 1 Axes>"
      ]
     },
     "metadata": {},
     "output_type": "display_data"
    }
   ],
   "source": [
    "plt.figure(figsize=(8, 6))\n",
    "plt.scatter(df['Ücret'], df['Kurtulan'], color='brown', alpha=0.5)\n",
    "plt.title('Ücret ve Kurtulan Kişi Dağılımı')\n",
    "plt.xlabel('Ücret')\n",
    "plt.ylabel('Kurtulan')\n",
    "plt.show()"
   ]
  },
  {
   "cell_type": "code",
   "execution_count": 16,
   "id": "70a22da5",
   "metadata": {
    "execution": {
     "iopub.execute_input": "2024-04-02T05:40:08.782969Z",
     "iopub.status.busy": "2024-04-02T05:40:08.782459Z",
     "iopub.status.idle": "2024-04-02T05:40:09.155838Z",
     "shell.execute_reply": "2024-04-02T05:40:09.154528Z"
    },
    "papermill": {
     "duration": 0.395847,
     "end_time": "2024-04-02T05:40:09.158784",
     "exception": false,
     "start_time": "2024-04-02T05:40:08.762937",
     "status": "completed"
    },
    "tags": []
   },
   "outputs": [
    {
     "data": {
      "text/plain": [
       "<Figure size 800x600 with 0 Axes>"
      ]
     },
     "metadata": {},
     "output_type": "display_data"
    },
    {
     "data": {
      "image/png": "[encoded data removed]",
      "text/plain": [
       "<Figure size 640x480 with 1 Axes>"
      ]
     },
     "metadata": {},
     "output_type": "display_data"
    }
   ],
   "source": [
    "plt.figure(figsize=(8, 6))\n",
    "df.boxplot(column='Yaş', by='BiletSınıfı')\n",
    "plt.title('Yaş ve BiletSınıfı Dağılımı')\n",
    "plt.xlabel('BiletSınıfı')\n",
    "plt.ylabel('Yaş')\n",
    "plt.xticks(rotation=0)\n",
    "plt.show()"
   ]
  },
  {
   "cell_type": "code",
   "execution_count": 17,
   "id": "7855fc07",
   "metadata": {
    "execution": {
     "iopub.execute_input": "2024-04-02T05:40:09.203700Z",
     "iopub.status.busy": "2024-04-02T05:40:09.202904Z",
     "iopub.status.idle": "2024-04-02T05:40:09.542179Z",
     "shell.execute_reply": "2024-04-02T05:40:09.540401Z"
    },
    "papermill": {
     "duration": 0.363553,
     "end_time": "2024-04-02T05:40:09.545426",
     "exception": false,
     "start_time": "2024-04-02T05:40:09.181873",
     "status": "completed"
    },
    "tags": []
   },
   "outputs": [
    {
     "data": {
      "text/plain": [
       "<Figure size 800x600 with 0 Axes>"
      ]
     },
     "metadata": {},
     "output_type": "display_data"
    },
    {
     "data": {
      "image/png": "[encoded data removed]",
      "text/plain": [
       "<Figure size 640x480 with 1 Axes>"
      ]
     },
     "metadata": {},
     "output_type": "display_data"
    }
   ],
   "source": [
    "plt.figure(figsize=(8, 6))\n",
    "df.groupby(['Cinsiyet', 'BiletSınıfı']).size().unstack().plot(kind='bar', stacked=True)\n",
    "plt.title('Cinsiyet ve BiletSınıfı')\n",
    "plt.xlabel('Cinsiyet')\n",
    "plt.ylabel('Yolcu Sayısı')\n",
    "plt.xticks(rotation=0)\n",
    "plt.show()"
   ]
  },
  {
   "cell_type": "code",
   "execution_count": 18,
   "id": "ebb449ae",
   "metadata": {
    "execution": {
     "iopub.execute_input": "2024-04-02T05:40:09.602013Z",
     "iopub.status.busy": "2024-04-02T05:40:09.601034Z",
     "iopub.status.idle": "2024-04-02T05:40:09.877046Z",
     "shell.execute_reply": "2024-04-02T05:40:09.875662Z"
    },
    "papermill": {
     "duration": 0.308163,
     "end_time": "2024-04-02T05:40:09.879966",
     "exception": false,
     "start_time": "2024-04-02T05:40:09.571803",
     "status": "completed"
    },
    "tags": []
   },
   "outputs": [
    {
     "data": {
      "text/plain": [
       "<Figure size 800x600 with 0 Axes>"
      ]
     },
     "metadata": {},
     "output_type": "display_data"
    },
    {
     "data": {
      "image/png": "[encoded data removed]",
      "text/plain": [
       "<Figure size 640x480 with 1 Axes>"
      ]
     },
     "metadata": {},
     "output_type": "display_data"
    }
   ],
   "source": [
    "plt.figure(figsize=(8, 6))\n",
    "df.groupby(['Kurtulan', 'BiletSınıfı']).size().unstack().plot(kind='bar', stacked=True)\n",
    "plt.title('Kurtulan ve BiletSınıfı Dağılımı')\n",
    "plt.xlabel('Kurtulan')\n",
    "plt.ylabel('Yolcu Sayısı')\n",
    "plt.xticks(ticks=[0, 1], labels=['No', 'Yes'])\n",
    "plt.show()"
   ]
  },
  {
   "cell_type": "code",
   "execution_count": 19,
   "id": "163c5367",
   "metadata": {
    "execution": {
     "iopub.execute_input": "2024-04-02T05:40:09.921026Z",
     "iopub.status.busy": "2024-04-02T05:40:09.919858Z",
     "iopub.status.idle": "2024-04-02T05:40:09.931796Z",
     "shell.execute_reply": "2024-04-02T05:40:09.930488Z"
    },
    "papermill": {
     "duration": 0.035407,
     "end_time": "2024-04-02T05:40:09.934394",
     "exception": false,
     "start_time": "2024-04-02T05:40:09.898987",
     "status": "completed"
    },
    "tags": []
   },
   "outputs": [
    {
     "data": {
      "text/plain": [
       "YolcuId                 0\n",
       "Kurtulan                0\n",
       "BiletSınıfı             0\n",
       "İsim                    0\n",
       "Cinsiyet                0\n",
       "Yaş                   177\n",
       "KardeşEşSayısı          0\n",
       "EbeveynÇocukSayısı      0\n",
       "BiletNumarası           0\n",
       "Ücret                   0\n",
       "Kabin                 687\n",
       "GemiyeBinen             2\n",
       "dtype: int64"
      ]
     },
     "execution_count": 19,
     "metadata": {},
     "output_type": "execute_result"
    }
   ],
   "source": [
    "missing_values = df.isnull().sum()\n",
    "missing_values"
   ]
  },
  {
   "cell_type": "code",
   "execution_count": 20,
   "id": "569c6563",
   "metadata": {
    "execution": {
     "iopub.execute_input": "2024-04-02T05:40:09.975962Z",
     "iopub.status.busy": "2024-04-02T05:40:09.974811Z",
     "iopub.status.idle": "2024-04-02T05:40:10.206010Z",
     "shell.execute_reply": "2024-04-02T05:40:10.204642Z"
    },
    "papermill": {
     "duration": 0.254706,
     "end_time": "2024-04-02T05:40:10.208870",
     "exception": false,
     "start_time": "2024-04-02T05:40:09.954164",
     "status": "completed"
    },
    "tags": []
   },
   "outputs": [
    {
     "data": {
      "text/plain": [
       "<Axes: >"
      ]
     },
     "execution_count": 20,
     "metadata": {},
     "output_type": "execute_result"
    },
    {
     "data": {
      "image/png": "[encoded data removed]",
      "text/plain": [
       "<Figure size 640x480 with 1 Axes>"
      ]
     },
     "metadata": {},
     "output_type": "display_data"
    }
   ],
   "source": [
    "sns.heatmap(df.isna(),yticklabels=False ,cbar=False)"
   ]
  },
  {
   "cell_type": "code",
   "execution_count": 21,
   "id": "a0581407",
   "metadata": {
    "execution": {
     "iopub.execute_input": "2024-04-02T05:40:10.251751Z",
     "iopub.status.busy": "2024-04-02T05:40:10.251242Z",
     "iopub.status.idle": "2024-04-02T05:40:10.258446Z",
     "shell.execute_reply": "2024-04-02T05:40:10.257363Z"
    },
    "papermill": {
     "duration": 0.032284,
     "end_time": "2024-04-02T05:40:10.260999",
     "exception": false,
     "start_time": "2024-04-02T05:40:10.228715",
     "status": "completed"
    },
    "tags": []
   },
   "outputs": [],
   "source": [
    "df['Yaş'].fillna(df['Yaş'].median(), inplace=True)"
   ]
  },
  {
   "cell_type": "code",
   "execution_count": 22,
   "id": "9f1153fa",
   "metadata": {
    "execution": {
     "iopub.execute_input": "2024-04-02T05:40:10.303852Z",
     "iopub.status.busy": "2024-04-02T05:40:10.303038Z",
     "iopub.status.idle": "2024-04-02T05:40:10.312171Z",
     "shell.execute_reply": "2024-04-02T05:40:10.310813Z"
    },
    "papermill": {
     "duration": 0.03414,
     "end_time": "2024-04-02T05:40:10.315280",
     "exception": false,
     "start_time": "2024-04-02T05:40:10.281140",
     "status": "completed"
    },
    "tags": []
   },
   "outputs": [],
   "source": [
    "df.drop('Kabin', axis=1, inplace=True)"
   ]
  },
  {
   "cell_type": "code",
   "execution_count": 23,
   "id": "96141586",
   "metadata": {
    "execution": {
     "iopub.execute_input": "2024-04-02T05:40:10.357585Z",
     "iopub.status.busy": "2024-04-02T05:40:10.356678Z",
     "iopub.status.idle": "2024-04-02T05:40:10.364500Z",
     "shell.execute_reply": "2024-04-02T05:40:10.362998Z"
    },
    "papermill": {
     "duration": 0.032017,
     "end_time": "2024-04-02T05:40:10.367277",
     "exception": false,
     "start_time": "2024-04-02T05:40:10.335260",
     "status": "completed"
    },
    "tags": []
   },
   "outputs": [],
   "source": [
    "df['GemiyeBinen'] = df['GemiyeBinen'].fillna(df['GemiyeBinen'].mode()[0])"
   ]
  },
  {
   "cell_type": "code",
   "execution_count": 24,
   "id": "d3456ac2",
   "metadata": {
    "execution": {
     "iopub.execute_input": "2024-04-02T05:40:10.411209Z",
     "iopub.status.busy": "2024-04-02T05:40:10.410670Z",
     "iopub.status.idle": "2024-04-02T05:40:10.422647Z",
     "shell.execute_reply": "2024-04-02T05:40:10.421195Z"
    },
    "papermill": {
     "duration": 0.037286,
     "end_time": "2024-04-02T05:40:10.425159",
     "exception": false,
     "start_time": "2024-04-02T05:40:10.387873",
     "status": "completed"
    },
    "tags": []
   },
   "outputs": [
    {
     "data": {
      "text/plain": [
       "YolcuId               0\n",
       "Kurtulan              0\n",
       "BiletSınıfı           0\n",
       "İsim                  0\n",
       "Cinsiyet              0\n",
       "Yaş                   0\n",
       "KardeşEşSayısı        0\n",
       "EbeveynÇocukSayısı    0\n",
       "BiletNumarası         0\n",
       "Ücret                 0\n",
       "GemiyeBinen           0\n",
       "dtype: int64"
      ]
     },
     "execution_count": 24,
     "metadata": {},
     "output_type": "execute_result"
    }
   ],
   "source": [
    "df.isna().sum().sort_values(ascending=False)"
   ]
  },
  {
   "cell_type": "code",
   "execution_count": 25,
   "id": "0c3e83e8",
   "metadata": {
    "execution": {
     "iopub.execute_input": "2024-04-02T05:40:10.468212Z",
     "iopub.status.busy": "2024-04-02T05:40:10.467394Z",
     "iopub.status.idle": "2024-04-02T05:40:10.474789Z",
     "shell.execute_reply": "2024-04-02T05:40:10.473817Z"
    },
    "papermill": {
     "duration": 0.031822,
     "end_time": "2024-04-02T05:40:10.477413",
     "exception": false,
     "start_time": "2024-04-02T05:40:10.445591",
     "status": "completed"
    },
    "tags": []
   },
   "outputs": [],
   "source": [
    "df.dropna(inplace=True)"
   ]
  },
  {
   "cell_type": "code",
   "execution_count": 26,
   "id": "8134c598",
   "metadata": {
    "execution": {
     "iopub.execute_input": "2024-04-02T05:40:10.520886Z",
     "iopub.status.busy": "2024-04-02T05:40:10.519834Z",
     "iopub.status.idle": "2024-04-02T05:40:10.528197Z",
     "shell.execute_reply": "2024-04-02T05:40:10.526918Z"
    },
    "papermill": {
     "duration": 0.033193,
     "end_time": "2024-04-02T05:40:10.530656",
     "exception": false,
     "start_time": "2024-04-02T05:40:10.497463",
     "status": "completed"
    },
    "tags": []
   },
   "outputs": [
    {
     "data": {
      "text/plain": [
       "(891, 11)"
      ]
     },
     "execution_count": 26,
     "metadata": {},
     "output_type": "execute_result"
    }
   ],
   "source": [
    "df.shape"
   ]
  },
  {
   "cell_type": "code",
   "execution_count": 27,
   "id": "18df6c16",
   "metadata": {
    "execution": {
     "iopub.execute_input": "2024-04-02T05:40:10.575745Z",
     "iopub.status.busy": "2024-04-02T05:40:10.575255Z",
     "iopub.status.idle": "2024-04-02T05:40:10.592789Z",
     "shell.execute_reply": "2024-04-02T05:40:10.591548Z"
    },
    "papermill": {
     "duration": 0.043924,
     "end_time": "2024-04-02T05:40:10.595332",
     "exception": false,
     "start_time": "2024-04-02T05:40:10.551408",
     "status": "completed"
    },
    "tags": []
   },
   "outputs": [
    {
     "data": {
      "text/html": [
       "<div>\n",
       "<style scoped>\n",
       "    .dataframe tbody tr th:only-of-type {\n",
       "        vertical-align: middle;\n",
       "    }\n",
       "\n",
       "    .dataframe tbody tr th {\n",
       "        vertical-align: top;\n",
       "    }\n",
       "\n",
       "    .dataframe thead th {\n",
       "        text-align: right;\n",
       "    }\n",
       "</style>\n",
       "<table border=\"1\" class=\"dataframe\">\n",
       "  <thead>\n",
       "    <tr style=\"text-align: right;\">\n",
       "      <th></th>\n",
       "      <th>YolcuId</th>\n",
       "      <th>Kurtulan</th>\n",
       "      <th>BiletSınıfı</th>\n",
       "      <th>İsim</th>\n",
       "      <th>Cinsiyet</th>\n",
       "      <th>Yaş</th>\n",
       "      <th>KardeşEşSayısı</th>\n",
       "      <th>EbeveynÇocukSayısı</th>\n",
       "      <th>BiletNumarası</th>\n",
       "      <th>Ücret</th>\n",
       "      <th>GemiyeBinen</th>\n",
       "    </tr>\n",
       "  </thead>\n",
       "  <tbody>\n",
       "    <tr>\n",
       "      <th>0</th>\n",
       "      <td>1</td>\n",
       "      <td>0</td>\n",
       "      <td>3</td>\n",
       "      <td>Braund, Mr. Owen Harris</td>\n",
       "      <td>male</td>\n",
       "      <td>22.0</td>\n",
       "      <td>1</td>\n",
       "      <td>0</td>\n",
       "      <td>A/5 21171</td>\n",
       "      <td>7.2500</td>\n",
       "      <td>S</td>\n",
       "    </tr>\n",
       "    <tr>\n",
       "      <th>1</th>\n",
       "      <td>2</td>\n",
       "      <td>1</td>\n",
       "      <td>1</td>\n",
       "      <td>Cumings, Mrs. John Bradley (Florence Briggs Th...</td>\n",
       "      <td>female</td>\n",
       "      <td>38.0</td>\n",
       "      <td>1</td>\n",
       "      <td>0</td>\n",
       "      <td>PC 17599</td>\n",
       "      <td>71.2833</td>\n",
       "      <td>C</td>\n",
       "    </tr>\n",
       "    <tr>\n",
       "      <th>2</th>\n",
       "      <td>3</td>\n",
       "      <td>1</td>\n",
       "      <td>3</td>\n",
       "      <td>Heikkinen, Miss. Laina</td>\n",
       "      <td>female</td>\n",
       "      <td>26.0</td>\n",
       "      <td>0</td>\n",
       "      <td>0</td>\n",
       "      <td>STON/O2. 3101282</td>\n",
       "      <td>7.9250</td>\n",
       "      <td>S</td>\n",
       "    </tr>\n",
       "  </tbody>\n",
       "</table>\n",
       "</div>"
      ],
      "text/plain": [
       "   YolcuId  Kurtulan  BiletSınıfı  \\\n",
       "0        1         0            3   \n",
       "1        2         1            1   \n",
       "2        3         1            3   \n",
       "\n",
       "                                                İsim Cinsiyet   Yaş  \\\n",
       "0                            Braund, Mr. Owen Harris     male  22.0   \n",
       "1  Cumings, Mrs. John Bradley (Florence Briggs Th...   female  38.0   \n",
       "2                             Heikkinen, Miss. Laina   female  26.0   \n",
       "\n",
       "   KardeşEşSayısı  EbeveynÇocukSayısı     BiletNumarası    Ücret GemiyeBinen  \n",
       "0               1                   0         A/5 21171   7.2500           S  \n",
       "1               1                   0          PC 17599  71.2833           C  \n",
       "2               0                   0  STON/O2. 3101282   7.9250           S  "
      ]
     },
     "execution_count": 27,
     "metadata": {},
     "output_type": "execute_result"
    }
   ],
   "source": [
    "df.head(3)"
   ]
  },
  {
   "cell_type": "code",
   "execution_count": 28,
   "id": "1a53c5ff",
   "metadata": {
    "execution": {
     "iopub.execute_input": "2024-04-02T05:40:10.640306Z",
     "iopub.status.busy": "2024-04-02T05:40:10.638622Z",
     "iopub.status.idle": "2024-04-02T05:40:10.650378Z",
     "shell.execute_reply": "2024-04-02T05:40:10.649057Z"
    },
    "papermill": {
     "duration": 0.03704,
     "end_time": "2024-04-02T05:40:10.653368",
     "exception": false,
     "start_time": "2024-04-02T05:40:10.616328",
     "status": "completed"
    },
    "tags": []
   },
   "outputs": [],
   "source": [
    "df = pd.get_dummies(df, columns=['Cinsiyet', 'GemiyeBinen'], drop_first=True)"
   ]
  },
  {
   "cell_type": "code",
   "execution_count": 29,
   "id": "4a19c7b6",
   "metadata": {
    "execution": {
     "iopub.execute_input": "2024-04-02T05:40:10.699384Z",
     "iopub.status.busy": "2024-04-02T05:40:10.697904Z",
     "iopub.status.idle": "2024-04-02T05:40:10.716346Z",
     "shell.execute_reply": "2024-04-02T05:40:10.715077Z"
    },
    "papermill": {
     "duration": 0.044608,
     "end_time": "2024-04-02T05:40:10.718965",
     "exception": false,
     "start_time": "2024-04-02T05:40:10.674357",
     "status": "completed"
    },
    "tags": []
   },
   "outputs": [
    {
     "data": {
      "text/html": [
       "<div>\n",
       "<style scoped>\n",
       "    .dataframe tbody tr th:only-of-type {\n",
       "        vertical-align: middle;\n",
       "    }\n",
       "\n",
       "    .dataframe tbody tr th {\n",
       "        vertical-align: top;\n",
       "    }\n",
       "\n",
       "    .dataframe thead th {\n",
       "        text-align: right;\n",
       "    }\n",
       "</style>\n",
       "<table border=\"1\" class=\"dataframe\">\n",
       "  <thead>\n",
       "    <tr style=\"text-align: right;\">\n",
       "      <th></th>\n",
       "      <th>YolcuId</th>\n",
       "      <th>Kurtulan</th>\n",
       "      <th>BiletSınıfı</th>\n",
       "      <th>İsim</th>\n",
       "      <th>Yaş</th>\n",
       "      <th>KardeşEşSayısı</th>\n",
       "      <th>EbeveynÇocukSayısı</th>\n",
       "      <th>BiletNumarası</th>\n",
       "      <th>Ücret</th>\n",
       "      <th>Cinsiyet_male</th>\n",
       "      <th>GemiyeBinen_Q</th>\n",
       "      <th>GemiyeBinen_S</th>\n",
       "    </tr>\n",
       "  </thead>\n",
       "  <tbody>\n",
       "    <tr>\n",
       "      <th>0</th>\n",
       "      <td>1</td>\n",
       "      <td>0</td>\n",
       "      <td>3</td>\n",
       "      <td>Braund, Mr. Owen Harris</td>\n",
       "      <td>22.0</td>\n",
       "      <td>1</td>\n",
       "      <td>0</td>\n",
       "      <td>A/5 21171</td>\n",
       "      <td>7.2500</td>\n",
       "      <td>True</td>\n",
       "      <td>False</td>\n",
       "      <td>True</td>\n",
       "    </tr>\n",
       "    <tr>\n",
       "      <th>1</th>\n",
       "      <td>2</td>\n",
       "      <td>1</td>\n",
       "      <td>1</td>\n",
       "      <td>Cumings, Mrs. John Bradley (Florence Briggs Th...</td>\n",
       "      <td>38.0</td>\n",
       "      <td>1</td>\n",
       "      <td>0</td>\n",
       "      <td>PC 17599</td>\n",
       "      <td>71.2833</td>\n",
       "      <td>False</td>\n",
       "      <td>False</td>\n",
       "      <td>False</td>\n",
       "    </tr>\n",
       "    <tr>\n",
       "      <th>2</th>\n",
       "      <td>3</td>\n",
       "      <td>1</td>\n",
       "      <td>3</td>\n",
       "      <td>Heikkinen, Miss. Laina</td>\n",
       "      <td>26.0</td>\n",
       "      <td>0</td>\n",
       "      <td>0</td>\n",
       "      <td>STON/O2. 3101282</td>\n",
       "      <td>7.9250</td>\n",
       "      <td>False</td>\n",
       "      <td>False</td>\n",
       "      <td>True</td>\n",
       "    </tr>\n",
       "  </tbody>\n",
       "</table>\n",
       "</div>"
      ],
      "text/plain": [
       "   YolcuId  Kurtulan  BiletSınıfı  \\\n",
       "0        1         0            3   \n",
       "1        2         1            1   \n",
       "2        3         1            3   \n",
       "\n",
       "                                                İsim   Yaş  KardeşEşSayısı  \\\n",
       "0                            Braund, Mr. Owen Harris  22.0               1   \n",
       "1  Cumings, Mrs. John Bradley (Florence Briggs Th...  38.0               1   \n",
       "2                             Heikkinen, Miss. Laina  26.0               0   \n",
       "\n",
       "   EbeveynÇocukSayısı     BiletNumarası    Ücret  Cinsiyet_male  \\\n",
       "0                   0         A/5 21171   7.2500           True   \n",
       "1                   0          PC 17599  71.2833          False   \n",
       "2                   0  STON/O2. 3101282   7.9250          False   \n",
       "\n",
       "   GemiyeBinen_Q  GemiyeBinen_S  \n",
       "0          False           True  \n",
       "1          False          False  \n",
       "2          False           True  "
      ]
     },
     "execution_count": 29,
     "metadata": {},
     "output_type": "execute_result"
    }
   ],
   "source": [
    "df.head(3)"
   ]
  },
  {
   "cell_type": "code",
   "execution_count": 30,
   "id": "f81679c8",
   "metadata": {
    "execution": {
     "iopub.execute_input": "2024-04-02T05:40:10.853597Z",
     "iopub.status.busy": "2024-04-02T05:40:10.851991Z",
     "iopub.status.idle": "2024-04-02T05:40:10.860395Z",
     "shell.execute_reply": "2024-04-02T05:40:10.859359Z"
    },
    "papermill": {
     "duration": 0.034123,
     "end_time": "2024-04-02T05:40:10.863219",
     "exception": false,
     "start_time": "2024-04-02T05:40:10.829096",
     "status": "completed"
    },
    "tags": []
   },
   "outputs": [],
   "source": [
    "X = df.drop(['Kurtulan', 'YolcuId', 'İsim', 'BiletNumarası',], axis=1)\n",
    "y = df['Kurtulan']"
   ]
  },
  {
   "cell_type": "code",
   "execution_count": 31,
   "id": "103cf893",
   "metadata": {
    "execution": {
     "iopub.execute_input": "2024-04-02T05:40:10.909783Z",
     "iopub.status.busy": "2024-04-02T05:40:10.908743Z",
     "iopub.status.idle": "2024-04-02T05:40:10.919600Z",
     "shell.execute_reply": "2024-04-02T05:40:10.918278Z"
    },
    "papermill": {
     "duration": 0.037772,
     "end_time": "2024-04-02T05:40:10.922810",
     "exception": false,
     "start_time": "2024-04-02T05:40:10.885038",
     "status": "completed"
    },
    "tags": []
   },
   "outputs": [],
   "source": [
    "X_train, X_test, y_train, y_test = train_test_split(X, y, test_size=0.2, random_state=42)"
   ]
  },
  {
   "cell_type": "code",
   "execution_count": 32,
   "id": "f6afa58f",
   "metadata": {
    "execution": {
     "iopub.execute_input": "2024-04-02T05:40:10.967518Z",
     "iopub.status.busy": "2024-04-02T05:40:10.966987Z",
     "iopub.status.idle": "2024-04-02T05:40:11.285967Z",
     "shell.execute_reply": "2024-04-02T05:40:11.284449Z"
    },
    "papermill": {
     "duration": 0.34497,
     "end_time": "2024-04-02T05:40:11.288984",
     "exception": false,
     "start_time": "2024-04-02T05:40:10.944014",
     "status": "completed"
    },
    "tags": []
   },
   "outputs": [
    {
     "data": {
      "text/plain": [
       "0.9472502805836139"
      ]
     },
     "execution_count": 32,
     "metadata": {},
     "output_type": "execute_result"
    }
   ],
   "source": [
    "rf = RandomForestClassifier(random_state=42)\n",
    "model=rf.fit(X_train, y_train)\n",
    "model.score(X,y)"
   ]
  },
  {
   "cell_type": "code",
   "execution_count": 33,
   "id": "7ca0bd3c",
   "metadata": {
    "execution": {
     "iopub.execute_input": "2024-04-02T05:40:11.334890Z",
     "iopub.status.busy": "2024-04-02T05:40:11.334096Z",
     "iopub.status.idle": "2024-04-02T05:40:11.356819Z",
     "shell.execute_reply": "2024-04-02T05:40:11.355445Z"
    },
    "papermill": {
     "duration": 0.048681,
     "end_time": "2024-04-02T05:40:11.359613",
     "exception": false,
     "start_time": "2024-04-02T05:40:11.310932",
     "status": "completed"
    },
    "tags": []
   },
   "outputs": [
    {
     "data": {
      "text/plain": [
       "0.8212290502793296"
      ]
     },
     "execution_count": 33,
     "metadata": {},
     "output_type": "execute_result"
    }
   ],
   "source": [
    "tahmin = rf.score(X_test, y_test)\n",
    "tahmin"
   ]
  },
  {
   "cell_type": "code",
   "execution_count": 34,
   "id": "de28eeaa",
   "metadata": {
    "execution": {
     "iopub.execute_input": "2024-04-02T05:40:11.405614Z",
     "iopub.status.busy": "2024-04-02T05:40:11.405101Z",
     "iopub.status.idle": "2024-04-02T05:40:11.424679Z",
     "shell.execute_reply": "2024-04-02T05:40:11.423192Z"
    },
    "papermill": {
     "duration": 0.046755,
     "end_time": "2024-04-02T05:40:11.427606",
     "exception": false,
     "start_time": "2024-04-02T05:40:11.380851",
     "status": "completed"
    },
    "tags": []
   },
   "outputs": [
    {
     "data": {
      "text/html": [
       "<div>\n",
       "<style scoped>\n",
       "    .dataframe tbody tr th:only-of-type {\n",
       "        vertical-align: middle;\n",
       "    }\n",
       "\n",
       "    .dataframe tbody tr th {\n",
       "        vertical-align: top;\n",
       "    }\n",
       "\n",
       "    .dataframe thead th {\n",
       "        text-align: right;\n",
       "    }\n",
       "</style>\n",
       "<table border=\"1\" class=\"dataframe\">\n",
       "  <thead>\n",
       "    <tr style=\"text-align: right;\">\n",
       "      <th></th>\n",
       "      <th>YolcuId</th>\n",
       "      <th>Kurtulan</th>\n",
       "      <th>BiletSınıfı</th>\n",
       "      <th>İsim</th>\n",
       "      <th>Yaş</th>\n",
       "      <th>KardeşEşSayısı</th>\n",
       "      <th>EbeveynÇocukSayısı</th>\n",
       "      <th>BiletNumarası</th>\n",
       "      <th>Ücret</th>\n",
       "      <th>Cinsiyet_male</th>\n",
       "      <th>GemiyeBinen_Q</th>\n",
       "      <th>GemiyeBinen_S</th>\n",
       "    </tr>\n",
       "  </thead>\n",
       "  <tbody>\n",
       "    <tr>\n",
       "      <th>607</th>\n",
       "      <td>608</td>\n",
       "      <td>1</td>\n",
       "      <td>1</td>\n",
       "      <td>Daniel, Mr. Robert Williams</td>\n",
       "      <td>27.0</td>\n",
       "      <td>0</td>\n",
       "      <td>0</td>\n",
       "      <td>113804</td>\n",
       "      <td>30.5</td>\n",
       "      <td>True</td>\n",
       "      <td>False</td>\n",
       "      <td>True</td>\n",
       "    </tr>\n",
       "  </tbody>\n",
       "</table>\n",
       "</div>"
      ],
      "text/plain": [
       "     YolcuId  Kurtulan  BiletSınıfı                         İsim   Yaş  \\\n",
       "607      608         1            1  Daniel, Mr. Robert Williams  27.0   \n",
       "\n",
       "     KardeşEşSayısı  EbeveynÇocukSayısı BiletNumarası  Ücret  Cinsiyet_male  \\\n",
       "607               0                   0        113804   30.5           True   \n",
       "\n",
       "     GemiyeBinen_Q  GemiyeBinen_S  \n",
       "607          False           True  "
      ]
     },
     "execution_count": 34,
     "metadata": {},
     "output_type": "execute_result"
    }
   ],
   "source": [
    "df.sample()"
   ]
  },
  {
   "cell_type": "code",
   "execution_count": 35,
   "id": "c8284ff1",
   "metadata": {
    "execution": {
     "iopub.execute_input": "2024-04-02T05:40:11.474542Z",
     "iopub.status.busy": "2024-04-02T05:40:11.473162Z",
     "iopub.status.idle": "2024-04-02T05:40:11.482145Z",
     "shell.execute_reply": "2024-04-02T05:40:11.480993Z"
    },
    "papermill": {
     "duration": 0.035156,
     "end_time": "2024-04-02T05:40:11.484757",
     "exception": false,
     "start_time": "2024-04-02T05:40:11.449601",
     "status": "completed"
    },
    "tags": []
   },
   "outputs": [
    {
     "data": {
      "text/plain": [
       "Index(['BiletSınıfı', 'Yaş', 'KardeşEşSayısı', 'EbeveynÇocukSayısı', 'Ücret',\n",
       "       'Cinsiyet_male', 'GemiyeBinen_Q', 'GemiyeBinen_S'],\n",
       "      dtype='object')"
      ]
     },
     "execution_count": 35,
     "metadata": {},
     "output_type": "execute_result"
    }
   ],
   "source": [
    "X.columns"
   ]
  },
  {
   "cell_type": "code",
   "execution_count": 36,
   "id": "2853216f",
   "metadata": {
    "execution": {
     "iopub.execute_input": "2024-04-02T05:40:11.532315Z",
     "iopub.status.busy": "2024-04-02T05:40:11.531839Z",
     "iopub.status.idle": "2024-04-02T05:40:11.551588Z",
     "shell.execute_reply": "2024-04-02T05:40:11.549986Z"
    },
    "papermill": {
     "duration": 0.047172,
     "end_time": "2024-04-02T05:40:11.554350",
     "exception": false,
     "start_time": "2024-04-02T05:40:11.507178",
     "status": "completed"
    },
    "tags": []
   },
   "outputs": [
    {
     "name": "stderr",
     "output_type": "stream",
     "text": [
      "/opt/conda/lib/python3.10/site-packages/sklearn/base.py:439: UserWarning: X does not have valid feature names, but RandomForestClassifier was fitted with feature names\n",
      "  warnings.warn(\n"
     ]
    },
    {
     "data": {
      "text/plain": [
       "array([1])"
      ]
     },
     "execution_count": 36,
     "metadata": {},
     "output_type": "execute_result"
    }
   ],
   "source": [
    "model.predict([[3,30,0,0,33.0,False,False,False]])"
   ]
  },
  {
   "cell_type": "code",
   "execution_count": 37,
   "id": "0e5f9a96",
   "metadata": {
    "execution": {
     "iopub.execute_input": "2024-04-02T05:40:11.601435Z",
     "iopub.status.busy": "2024-04-02T05:40:11.600918Z",
     "iopub.status.idle": "2024-04-02T05:40:11.620430Z",
     "shell.execute_reply": "2024-04-02T05:40:11.618664Z"
    },
    "papermill": {
     "duration": 0.04541,
     "end_time": "2024-04-02T05:40:11.622964",
     "exception": false,
     "start_time": "2024-04-02T05:40:11.577554",
     "status": "completed"
    },
    "tags": []
   },
   "outputs": [
    {
     "name": "stderr",
     "output_type": "stream",
     "text": [
      "/opt/conda/lib/python3.10/site-packages/sklearn/base.py:439: UserWarning: X does not have valid feature names, but RandomForestClassifier was fitted with feature names\n",
      "  warnings.warn(\n"
     ]
    },
    {
     "data": {
      "text/plain": [
       "array([0])"
      ]
     },
     "execution_count": 37,
     "metadata": {},
     "output_type": "execute_result"
    }
   ],
   "source": [
    "model.predict([[3,20,0,0,7.0,True,False,True]])"
   ]
  },
  {
   "cell_type": "code",
   "execution_count": null,
   "id": "7fe4d00b",
   "metadata": {
    "papermill": {
     "duration": 0.02214,
     "end_time": "2024-04-02T05:40:11.667173",
     "exception": false,
     "start_time": "2024-04-02T05:40:11.645033",
     "status": "completed"
    },
    "tags": []
   },
   "outputs": [],
   "source": []
  }
 ],
 "metadata": {
  "kaggle": {
   "accelerator": "none",
   "dataSources": [
    {
     "datasetId": 1818188,
     "sourceId": 2965537,
     "sourceType": "datasetVersion"
    }
   ],
   "dockerImageVersionId": 30673,
   "isGpuEnabled": false,
   "isInternetEnabled": false,
   "language": "python",
   "sourceType": "notebook"
  },
  "kernelspec": {
   "display_name": "Python 3",
   "language": "python",
   "name": "python3"
  },
  "language_info": {
   "codemirror_mode": {
    "name": "ipython",
    "version": 3
   },
   "file_extension": ".py",
   "mimetype": "text/x-python",
   "name": "python",
   "nbconvert_exporter": "python",
   "pygments_lexer": "ipython3",
   "version": "3.10.13"
  },
  "papermill": {
   "default_parameters": {},
   "duration": 13.32472,
   "end_time": "2024-04-02T05:40:12.615529",
   "environment_variables": {},
   "exception": null,
   "input_path": "__notebook__.ipynb",
   "output_path": "__notebook__.ipynb",
   "parameters": {},
   "start_time": "2024-04-02T05:39:59.290809",
   "version": "2.5.0"
  }
 },
 "nbformat": 4,
 "nbformat_minor": 5
}
